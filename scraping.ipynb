{
 "cells": [
  {
   "cell_type": "code",
   "execution_count": 15,
   "metadata": {},
   "outputs": [
    {
     "name": "stdout",
     "output_type": "stream",
     "text": [
      "261D1ABB\n"
     ]
    }
   ],
   "source": [
    "# coding: UTF-8\n",
    "\n",
    "import requests\n",
    "from bs4 import BeautifulSoup\n",
    "import re\n",
    "import pyperclip\n",
    "import pyautogui as pg\n",
    "import time\n",
    "import random\n",
    "import json\n",
    "import pygame.mixer\n",
    "import os \n",
    "\n",
    "\"\"\"画像が収納されているパスの指定\"\"\"\n",
    "os.chdir(r\"C:\\Users\\Kaito Kusumoto\\Documents\\Python Scripts\\グラブル\\images\")\n",
    "\n",
    "\n",
    "'''スクレイピングをするクラス'''\n",
    "class Get_id:\n",
    "    def __init__(self,battlename):\n",
    "        url_dict ={\n",
    "            \"アバターhl\" : 'https://search.yahoo.co.jp/realtime/search?ei=UTF-8&fr=rts_top&aq=0&oq=%E3%82%A2%E3%83%90%E3%82%BF%E3%83%BC&at=s&ts=41854&p=%E3%82%A2%E3%83%90%E3%82%BF%E3%83%BC+lv120+%E5%8F%82%E6%88%A6id&meta=vc%3D',\n",
    "            \"セレストhl\": \"https://search.yahoo.co.jp/realtime/search?ei=UTF-8&fr=rts_top&aq=1&oq=%E3%81%9B%E3%82%8C&at=s&ts=53296&p=%E3%82%BB%E3%83%AC%E3%82%B9%E3%83%88+%E3%83%9E%E3%82%B0%E3%83%8A+lv100+%E5%8F%82%E6%88%A6id&meta=vc%3D\",\n",
    "            \"シヴァhl\" : \"https://search.yahoo.co.jp/realtime/search?p=%E3%82%B7%E3%83%B4%E3%82%A1+lv120+%E5%8F%82%E6%88%A6id&ei=UTF-8&fr=rts_top\",\n",
    "            \"ルシファーn\" : \"https://search.yahoo.co.jp/realtime/search?p=%E3%83%AB%E3%82%B7%E3%83%95%E3%82%A1%E3%83%BC+%E5%8F%82%E6%88%A6id+lv150&ei=UTF-8&fr=rts_top\",\n",
    "            \"グランデ\" : \"https://search.yahoo.co.jp/realtime/search?p=%E3%82%B0%E3%83%A9%E3%83%B3%E3%83%87+lv100+%E5%8F%82%E6%88%A6id&ei=UTF-8&fr=rts_top\",\n",
    "            \"リンドヴルム\" : \"https://search.yahoo.co.jp/realtime/search?p=%E3%83%AA%E3%83%B3%E3%83%89%E3%83%B4%E3%83%AB%E3%83%A0+%E5%8F%82%E6%88%A6id&ei=UTF-8&fr=rts_top\",\n",
    "            \"オリヴィエhl\" : \"https://search.yahoo.co.jp/realtime/search?p=%E3%82%AA%E3%83%AA%E3%83%B4%E3%82%A3%E3%82%A8+lv120+%E5%8F%82%E6%88%A6id&ei=UTF-8&fr=rts_top\",\n",
    "            \"アヌビスhl\" : \"https://search.yahoo.co.jp/realtime/search?p=%E3%82%A2%E3%83%8C%E3%83%93%E3%82%B9+lv120+%E5%8F%82%E6%88%A6id&ei=UTF-8&fr=rts_top\",\n",
    "            \"グリムhl\" : \"https://search.yahoo.co.jp/realtime/search?p=%E3%82%B0%E3%83%AA%E3%83%BC%E3%83%A0%E3%83%8B%E3%83%AB+lv120+%E5%8F%82%E6%88%A6id&ei=UTF-8&fr=rts_top\"\n",
    "        }\n",
    "        self.battlename = battlename\n",
    "        self.target_url=url_dict[battlename]\n",
    "\n",
    "\n",
    "    '''スクレイピングでマルチidを取得、コピー。'''\n",
    "    def get_id(self):\n",
    "        self.ids_b = [0 for i in range(5)]\n",
    "   \n",
    "        #リンクの取得\n",
    "        #Requestsを使って、webから取得\n",
    "        r = requests.get(self.target_url)\n",
    "\n",
    "        #要素を抽出\n",
    "        soup = BeautifulSoup(r.text, 'lxml')\n",
    "\n",
    "        self.ids = []\n",
    "        self.id = 0\n",
    "        for i in range(5):\n",
    "            elem = soup.find_all('h2')[i].contents[0]\n",
    "            regex = re.compile(r\"\\w{8}\")\n",
    "            mo = regex.search(elem)\n",
    "            try:\n",
    "                self.id = mo.group(0)\n",
    "                self.ids.append(self.id)\n",
    "            except:\n",
    "                pass\n",
    "\n",
    "\n",
    "        #前回取得と被っていないものを取得、クリップボードへ\n",
    "        for j in range(len(self.ids_b )):\n",
    "            for i in range(len(self.ids)):\n",
    "                    if self.ids[i] != self.ids_b [j]:\n",
    "                        self.id = self.ids[i]\n",
    "\n",
    "        print(self.id)\n",
    "        pyperclip.copy(self.id)\n",
    "\n",
    "        return self.id\n",
    "\n",
    "\n",
    "    '''idを入力する(BattleFlowクラスを使える)'''\n",
    "    def enter_id(self):\n",
    "        self.idpaste = self.get_id()\n",
    "        pyperclip.copy(self.idpaste)\n",
    "        \n",
    "Get_id(\"アバターhl\").enter_id()"
   ]
  },
  {
   "cell_type": "code",
   "execution_count": null,
   "metadata": {},
   "outputs": [],
   "source": []
  }
 ],
 "metadata": {
  "kernelspec": {
   "display_name": "Python 3",
   "language": "python",
   "name": "python3"
  },
  "language_info": {
   "codemirror_mode": {
    "name": "ipython",
    "version": 3
   },
   "file_extension": ".py",
   "mimetype": "text/x-python",
   "name": "python",
   "nbconvert_exporter": "python",
   "pygments_lexer": "ipython3",
   "version": "3.7.4"
  }
 },
 "nbformat": 4,
 "nbformat_minor": 2
}
